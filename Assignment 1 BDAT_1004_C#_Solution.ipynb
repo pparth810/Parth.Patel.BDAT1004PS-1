{
 "cells": [
  {
   "attachments": {},
   "cell_type": "markdown",
   "id": "38f9e9da",
   "metadata": {},
   "source": [
    "# Question 1"
   ]
  },
  {
   "attachments": {},
   "cell_type": "markdown",
   "id": "360a0506",
   "metadata": {},
   "source": [
    "What data type is each of the following?"
   ]
  },
  {
   "cell_type": "code",
   "execution_count": 6,
   "id": "e2b2ab5a",
   "metadata": {
    "dotnet_interactive": {
     "language": "csharp"
    },
    "polyglot_notebook": {
     "kernelName": "csharp"
    },
    "vscode": {
     "languageId": "polyglot-notebook"
    }
   },
   "outputs": [
    {
     "name": "stdout",
     "output_type": "stream",
     "text": [
      "Datatype of a is: System.Int32\n",
      "Datatype of b is: System.Double\n",
      "Datatype of c is: System.Boolean\n",
      "Datatype of d is: System.Char\n",
      "Datatype of e is: System.Int32\n",
      "Datatype of f is: System.Int32\n",
      "Datatype of g is: System.Int32\n",
      "Datatype of h is: System.Int32[]\n",
      "Datatype of i is: System.Boolean\n",
      "Datatype of pi is: System.Double\n"
     ]
    }
   ],
   "source": [
    "        int a = 5;\n",
    "        double b = 5.0;\n",
    "        bool c = 5 > 1;\n",
    "        char d = '5';\n",
    "        int e = 5 * 2;\n",
    "        int f = 5 / 2;\n",
    "        int g = 5 % 2;\n",
    "        int[] h = { 5, 2, 1 };\n",
    "        bool i = 5 == 3;\n",
    "        double pi = Math.PI;\n",
    "\n",
    "        Console.WriteLine(\"Datatype of a is: \"+ a.GetType()); \n",
    "        Console.WriteLine(\"Datatype of b is: \"+ b.GetType()); \n",
    "        Console.WriteLine(\"Datatype of c is: \" +c.GetType()); \n",
    "        Console.WriteLine(\"Datatype of d is: \"+d.GetType()); \n",
    "        Console.WriteLine(\"Datatype of e is: \"+e.GetType());\n",
    "        Console.WriteLine(\"Datatype of f is: \"+f.GetType()); \n",
    "        Console.WriteLine(\"Datatype of g is: \"+g.GetType()); \n",
    "        Console.WriteLine(\"Datatype of h is: \"+h.GetType());\n",
    "        Console.WriteLine(\"Datatype of i is: \"+i.GetType()); \n",
    "        Console.WriteLine(\"Datatype of pi is: \"+pi.GetType()); \n"
   ]
  },
  {
   "attachments": {},
   "cell_type": "markdown",
   "id": "16c005b6",
   "metadata": {},
   "source": [
    "# Question 2\n",
    "Write (and evaluate) C# expressions that answer these questions:\n",
    "\n",
    "1. How many letters are there in 'Supercalifragilisticexpialidocious'?"
   ]
  },
  {
   "cell_type": "code",
   "execution_count": 10,
   "id": "076402df",
   "metadata": {
    "dotnet_interactive": {
     "language": "csharp"
    },
    "polyglot_notebook": {
     "kernelName": "csharp"
    },
    "vscode": {
     "languageId": "polyglot-notebook"
    }
   },
   "outputs": [
    {
     "name": "stdout",
     "output_type": "stream",
     "text": [
      "Above string has 34 letters  \r\n"
     ]
    }
   ],
   "source": [
    "string letters = \"Supercalifragilisticexpialidocious\";\n",
    "int length = letters.Length;\n",
    "Console.WriteLine(\"Above string has \" + length + \" letters  \");"
   ]
  },
  {
   "attachments": {},
   "cell_type": "markdown",
   "id": "ea33cb89",
   "metadata": {},
   "source": [
    "2. Does 'Supercalifragilisticexpialidocious' contain 'ice' as a substring?"
   ]
  },
  {
   "cell_type": "code",
   "execution_count": 2,
   "id": "6cb59624",
   "metadata": {
    "dotnet_interactive": {
     "language": "csharp"
    },
    "polyglot_notebook": {
     "kernelName": "csharp"
    },
    "vscode": {
     "languageId": "polyglot-notebook"
    }
   },
   "outputs": [
    {
     "name": "stdout",
     "output_type": "stream",
     "text": [
      "Does the Supercalifragilisticexpialidocious contain 'ice' in it? True\r\n"
     ]
    }
   ],
   "source": [
    "String letters = \"Supercalifragilisticexpialidocious\";\n",
    "Console.WriteLine(\"Does the \" + letters + \" contain 'ice' in it? \" + letters.Contains(\"ice\"));"
   ]
  },
  {
   "cell_type": "code",
   "execution_count": 18,
   "id": "22567e71",
   "metadata": {
    "dotnet_interactive": {
     "language": "csharp"
    },
    "polyglot_notebook": {
     "kernelName": "csharp"
    },
    "vscode": {
     "languageId": "polyglot-notebook"
    }
   },
   "outputs": [
    {
     "name": "stdout",
     "output_type": "stream",
     "text": [
      "Que:Does the Supercalifragilisticexpialidocious contain 'ice' as asubstring?\n",
      "Answer: Yes it contains \n"
     ]
    }
   ],
   "source": [
    "string letters = \"Supercalifragilisticexpialidocious\";\n",
    "bool substring = letters.Contains(\"ice\");\n",
    "string answer = substring ? \"Yes it contains\" : \"No it does not contain\";\n",
    "Console.WriteLine($\"Que:Does the {letters} contain 'ice' as asubstring?\");\n",
    "Console.WriteLine($\"Answer: {answer} \");"
   ]
  },
  {
   "attachments": {},
   "cell_type": "markdown",
   "id": "248a2e5f",
   "metadata": {},
   "source": [
    "3. Which of the following words is the longest: Supercalifragilisticexpialidocious, Honorificabilitudinitatibus, or Bababadalgharaghtakamminarronnkonn?"
   ]
  },
  {
   "cell_type": "code",
   "execution_count": 20,
   "id": "99f82ea9",
   "metadata": {
    "dotnet_interactive": {
     "language": "csharp"
    },
    "polyglot_notebook": {
     "kernelName": "csharp"
    },
    "vscode": {
     "languageId": "polyglot-notebook"
    }
   },
   "outputs": [
    {
     "name": "stdout",
     "output_type": "stream",
     "text": [
      "Answer: The longest word is: Supercalifragilisticexpialidocious\r\n"
     ]
    }
   ],
   "source": [
    " string[] words = new string[] { \"Supercalifragilisticexpialidocious\", \"Honorificabilitudinitatibus\", \"Bababadalgharaghtakamminarronnkonn\" };\n",
    "            string longestWord = \"\"; // First creaated emptry string to store longest word after the loop.\n",
    "            int maxlength = 0; // first we assigned 0 as maximam length then it will update.\n",
    "\n",
    "            foreach (string word in words)\n",
    "            {\n",
    "                if (word.Length > maxlength) \n",
    "                {\n",
    "                    maxlength = word.Length; // update maximum length and store in maxLength\n",
    "                    longestWord = word; // update the longest word in the emplty string.\n",
    "                }\n",
    "            }\n",
    "\n",
    "            Console.WriteLine(\"Answer: The longest word is: \" + longestWord);"
   ]
  },
  {
   "attachments": {},
   "cell_type": "markdown",
   "id": "cfe09eba",
   "metadata": {},
   "source": [
    "4. Which composer comes first in the dictionary: 'Berlioz', 'Borodin', 'Brian', 'Bartok', 'Bellini', 'Buxtehude', 'Bernstein'. Which one comes last?"
   ]
  },
  {
   "cell_type": "code",
   "execution_count": 42,
   "metadata": {
    "dotnet_interactive": {
     "language": "csharp"
    },
    "polyglot_notebook": {
     "kernelName": "csharp"
    },
    "vscode": {
     "languageId": "polyglot-notebook"
    }
   },
   "outputs": [
    {
     "name": "stdout",
     "output_type": "stream",
     "text": [
      "First Composer: Bartok\n",
      "Last Composer: Buxtehude\n",
      "The below is the sorted list :\n"
     ]
    },
    {
     "data": {
      "text/html": [
       "<div class=\"dni-plaintext\"><pre>[ Bartok, Bellini, Berlioz, Bernstein, Borodin, Brian, Buxtehude ]</pre></div><style>\r\n",
       ".dni-code-hint {\r\n",
       "    font-style: italic;\r\n",
       "    overflow: hidden;\r\n",
       "    white-space: nowrap;\r\n",
       "}\r\n",
       ".dni-treeview {\r\n",
       "    white-space: nowrap;\r\n",
       "}\r\n",
       ".dni-treeview td {\r\n",
       "    vertical-align: top;\r\n",
       "    text-align: start;\r\n",
       "}\r\n",
       "details.dni-treeview {\r\n",
       "    padding-left: 1em;\r\n",
       "}\r\n",
       "table td {\r\n",
       "    text-align: start;\r\n",
       "}\r\n",
       "table tr { \r\n",
       "    vertical-align: top; \r\n",
       "    margin: 0em 0px;\r\n",
       "}\r\n",
       "table tr td pre \r\n",
       "{ \r\n",
       "    vertical-align: top !important; \r\n",
       "    margin: 0em 0px !important;\r\n",
       "} \r\n",
       "table th {\r\n",
       "    text-align: start;\r\n",
       "}\r\n",
       "</style>"
      ]
     },
     "metadata": {},
     "output_type": "display_data"
    }
   ],
   "source": [
    "string[] composersList = { \"Berlioz\", \"Borodin\", \"Brian\", \"Bartok\", \"Bellini\", \"Buxtehude\", \"Bernstein\" };\n",
    "\n",
    "Array.Sort(composersList); // First sort all composers in alphabetical order\n",
    "string firstWord = composersList[0]; // Get the first composer\n",
    "string lastWord = composersList[6]; // Get the last composer which is sixth one\n",
    "\n",
    "Console.WriteLine(\"First Composer: \" + firstWord);\n",
    "Console.WriteLine(\"Last Composer: \" + lastWord);\n",
    "\n",
    "Console.WriteLine(\"The below is the sorted list :\");\n",
    "return composersList;\n",
    "\n",
    "\n"
   ]
  },
  {
   "attachments": {},
   "cell_type": "markdown",
   "id": "f9413d35",
   "metadata": {},
   "source": [
    "**Answer**: Alphabetically, the composer that comes first in the list is \"Bartok.\" The composer that comes last is \"Buxtehude.\""
   ]
  },
  {
   "attachments": {},
   "cell_type": "markdown",
   "id": "30f32cc7",
   "metadata": {},
   "source": [
    "# Question 3\n",
    "Implement function triangleArea(a,b,c) that takes as input the lengths of the 3 sides of a triangle and returns the area of the triangle. By Heron's formula, the area of a triangle with side lengths a, b, and c is sqrt of s(s-a)(s-b)(s-c), where s=(a+b+c)/2."
   ]
  },
  {
   "cell_type": "code",
   "execution_count": 52,
   "metadata": {
    "dotnet_interactive": {
     "language": "csharp"
    },
    "polyglot_notebook": {
     "kernelName": "csharp"
    },
    "vscode": {
     "languageId": "polyglot-notebook"
    }
   },
   "outputs": [
    {
     "name": "stdout",
     "output_type": "stream",
     "text": [
      "The area of the triangle: 1.7320508075688772\r\n"
     ]
    }
   ],
   "source": [
    "double triangleArea(double a, double b, double c) \n",
    "{\n",
    "    double s = (a + b + c) / 2;\n",
    "    double area = Math.Sqrt(s * (s - a) * (s - b) * (s - c));\n",
    "    return area;\n",
    "}\n",
    "\n",
    "\n",
    "Console.WriteLine(\"The area of the triangle: \" + triangleArea(2,2,2));"
   ]
  },
  {
   "attachments": {},
   "cell_type": "markdown",
   "id": "a5e9cbc4",
   "metadata": {},
   "source": [
    "# Question 4\n",
    "Write a program in C# Sharp to separate odd and even integers in separate arrays."
   ]
  },
  {
   "cell_type": "code",
   "execution_count": 76,
   "metadata": {
    "dotnet_interactive": {
     "language": "csharp"
    },
    "polyglot_notebook": {
     "kernelName": "csharp"
    },
    "vscode": {
     "languageId": "polyglot-notebook"
    }
   },
   "outputs": [
    {
     "name": "stdout",
     "output_type": "stream",
     "text": [
      "Even Numbers: 42, 56, 32, 0, 0\n",
      "Odd Numbers: 25, 47, 0, 0, 0\n"
     ]
    }
   ],
   "source": [
    "int[] numbers = {25,47,42,56,32}; // Store 6 numbers in array first\n",
    "int[] even = new int [numbers.Length]; // Check the total number of eve n numbers\n",
    "int[] odd = new int [numbers.Length];// Check the total number of odd n numbers\n",
    "int evenIndex = 0; // declared variable with initial values 0\n",
    "int oddIndex = 0;\n",
    "\n",
    "for (int i = 0; i < numbers.Length; i++)\n",
    "{\n",
    "    if(numbers[i] % 2 ==0) // 42%2 = 0\n",
    "    {\n",
    "        even[evenIndex] = numbers[i]; // even[evenIndex=42] = numbers[3] Stored 42 in evenIndex\n",
    "        evenIndex++;\n",
    "    }\n",
    "    else\n",
    "    {\n",
    "        odd[oddIndex] = numbers[i]; // 25%2 ==1\n",
    "        oddIndex++;\n",
    "    }\n",
    "}\n",
    "\n",
    "\n",
    "Console.WriteLine(\"Even Numbers: \" + string.Join(\", \", even));\n",
    "Console.WriteLine(\"Odd Numbers: \" + string.Join(\", \", odd));\n"
   ]
  },
  {
   "attachments": {},
   "cell_type": "markdown",
   "id": "eb9a3608",
   "metadata": {},
   "source": [
    "# Question 5\n",
    "a. Write a function inside(x,y,x1,y1,x2,y2) that returns True or False dependingonwhetherthepoint(x,y)liesintherectanglewithlowerleft corner (x1,y1) and upper right corner (x2,y2)."
   ]
  },
  {
   "cell_type": "code",
   "execution_count": 6,
   "metadata": {
    "dotnet_interactive": {
     "language": "csharp"
    },
    "polyglot_notebook": {
     "kernelName": "csharp"
    },
    "vscode": {
     "languageId": "polyglot-notebook"
    }
   },
   "outputs": [
    {
     "name": "stdout",
     "output_type": "stream",
     "text": [
      "Does the point (1,1) lies in rectangle with coordinates (1,1,0,0,2,3)? True\n",
      "Does the point (-1,-1) lies in rectangle with coordinates (-1,-1,0,0,2,3)? False\n"
     ]
    }
   ],
   "source": [
    "bool Inside(double x, double y, double x1, double y1, double x2, double y2)\n",
    "{\n",
    "    if (x >= x1 && x <= x2 && y >= y1 && y <= y2) // Here x= 0  lies in x1= 0  and y1= 2 then returns true\n",
    "    {\n",
    "        return true;\n",
    "    }\n",
    "    else\n",
    "    {\n",
    "        return false;\n",
    "    }\n",
    "}\n",
    "\n",
    "Console.WriteLine(\"Does the point (1,1) lies in rectangle with coordinates (1,1,0,0,2,3)? \" + Inside(1,1,0,0,2,3));\n",
    "Console.WriteLine(\"Does the point (-1,-1) lies in rectangle with coordinates (-1,-1,0,0,2,3)? \" + Inside(-1,-1,0,0,2,3));\n"
   ]
  },
  {
   "attachments": {},
   "cell_type": "markdown",
   "id": "085f1033",
   "metadata": {},
   "source": [
    "b. Use function inside() from part a. to write an expression that tests whether the point (1,1) lies in both of the following rectangles: one with lower left corner (0.3, 0.5) and upper right corner (1.1, 0.7) and the other with lower left corner (0.5, 0.2) and upper right corner (1.1, 2)."
   ]
  },
  {
   "cell_type": "code",
   "execution_count": 5,
   "metadata": {
    "dotnet_interactive": {
     "language": "csharp"
    },
    "polyglot_notebook": {
     "kernelName": "csharp"
    },
    "vscode": {
     "languageId": "polyglot-notebook"
    }
   },
   "outputs": [
    {
     "name": "stdout",
     "output_type": "stream",
     "text": [
      "Does point (x,y) lies in rectangle with coordinates (1, 1, 0.3, 0.5, 1.1, 0.7)? False\n",
      "Does point (x,y) lies in rectangle with coordinates (1, 1, 0.5, 0.2, 1.1, 2)? True\n"
     ]
    }
   ],
   "source": [
    "bool Inside(double x, double y, double x1, double y1, double x2, double y2)\n",
    "{\n",
    "    if (x >= x1 && x <= x2 && y >= y1 && y <= y2)\n",
    "    {\n",
    "        return true;\n",
    "    }\n",
    "    else\n",
    "    {\n",
    "        return false;\n",
    "    }\n",
    "}\n",
    "\n",
    "Console.WriteLine(\"Does point (x,y) lies in rectangle with coordinates (1, 1, 0.3, 0.5, 1.1, 0.7)? \" + Inside(1, 1, 0.3, 0.5, 1.1, 0.7));\n",
    "Console.WriteLine(\"Does point (x,y) lies in rectangle with coordinates (1, 1, 0.5, 0.2, 1.1, 2)? \" + Inside(1, 1, 0.5, 0.2, 1.1, 2));"
   ]
  }
 ],
 "metadata": {
  "kernelspec": {
   "display_name": ".NET (C#)",
   "language": "C#",
   "name": ".net-csharp"
  },
  "language_info": {
   "file_extension": ".cs",
   "mimetype": "text/x-csharp",
   "name": "C#",
   "pygments_lexer": "csharp",
   "version": "8.0"
  }
 },
 "nbformat": 4,
 "nbformat_minor": 5
}
