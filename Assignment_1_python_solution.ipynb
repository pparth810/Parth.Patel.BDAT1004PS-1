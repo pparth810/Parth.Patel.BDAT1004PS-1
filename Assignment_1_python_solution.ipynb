{
 "cells": [
  {
   "cell_type": "markdown",
   "id": "c282a756",
   "metadata": {},
   "source": [
    "## Question 6\n",
    "You can turn a word into pig-Latin using the following two rules(simplified):\n",
    "\n",
    "• If the word starts with a consonant, move that letter to the end and append \n",
    "'ay'. For example, 'happy' becomes 'appyhay' and 'pencil' becomes 'encilpay'.\n",
    "\n",
    "• If the word starts with a vowel, simply append 'way' to the end of the word. \n",
    "For example, 'enter' becomes 'enterway' and 'other' becomes 'otherway' . For \n",
    "our purposes, there are 5 vowels: a, e, i, o, u (so we count y as a consonant).\n",
    "\n",
    "Write a function pig() that takes a word (i.e., a string) as input and returns its pigLatin\n",
    "form. Your function should still work if the input word contains upper case characters. Your\n",
    "output should always be lower case, however."
   ]
  },
  {
   "cell_type": "code",
   "execution_count": 5,
   "id": "ab28a5a9",
   "metadata": {},
   "outputs": [
    {
     "name": "stdout",
     "output_type": "stream",
     "text": [
      "appyhay\n",
      "enterway\n"
     ]
    }
   ],
   "source": [
    "def pig(word):\n",
    "    word=word.lower() #input should be lower\n",
    "    vowels ='aeiou'# all vowels \n",
    "\n",
    "    if word[0] in vowels: # in operator will check every word in vowels first\n",
    "        return word+ 'way'  # start with vowels\n",
    "\n",
    "    else:\n",
    "        return word[1:] + word[0]+'ay'; # start with consonant\n",
    "    \n",
    "print(pig('happy'))\n",
    "print(pig('enter'))"
   ]
  },
  {
   "cell_type": "markdown",
   "id": "58bfb2d1",
   "metadata": {},
   "source": [
    "## Question 7\n",
    "File bloodtype1.txt records blood-types of patients (A, B, AB, O or OO) at a clinic.\n",
    "Write a function bldcount() that reads the file with name 'name' and reports (i.e., prints) how\n",
    "many patients there are in each bloodtype"
   ]
  },
  {
   "cell_type": "code",
   "execution_count": 5,
   "id": "53bb82d7",
   "metadata": {},
   "outputs": [
    {
     "name": "stdout",
     "output_type": "stream",
     "text": [
      "There are 10 patiernts for blood typeA\n",
      "There are 1 patiernts for blood typeB\n",
      "There are 10 patiernts for blood typeAB\n",
      "There are 12 patiernts for blood typeO\n",
      "There are 0 patiernts for blood typeOO\n"
     ]
    }
   ],
   "source": [
    "def bldcount(name):\n",
    "    f = open (name,'r') # open file in read mode\n",
    " \n",
    "    words= f.readline() #return  content of file to the variable\n",
    "\n",
    "    list=[] # Created empty list \n",
    "    list.append(words.split(\" \"))#Split the words into a list and append it to the blood_types list\n",
    "\n",
    "    \n",
    "    blood_types_List= ['A','B','AB','O','OO']\n",
    "    \n",
    "    for blood_type in blood_types_List:\n",
    "           print(\"There are {} patiernts for blood type{}\".format(list[0].count(blood_type),blood_type) )\n",
    "    \n",
    "bldcount('C:/Users/Parth/Desktop/Parth BDAT/1004- Data Programming/Assignments/Datasets/bloodtype1.txt')"
   ]
  },
  {
   "cell_type": "markdown",
   "id": "2b0db1c7",
   "metadata": {},
   "source": [
    "## Question 8\n",
    "Write a function curconv() that takes as input:\n",
    "\n",
    "1. a currency represented using a string (e.g., 'JPY' for the Japanese Yen or 'EUR' for the Euro)\n",
    "2. an amount\n",
    "\n",
    "and then converts and returns the amount in US dollars."
   ]
  },
  {
   "cell_type": "code",
   "execution_count": 7,
   "id": "62f2a84a",
   "metadata": {},
   "outputs": [
    {
     "name": "stdout",
     "output_type": "stream",
     "text": [
      "122.96544\n",
      "1.241401\n"
     ]
    }
   ],
   "source": [
    "def curconv(currency, amount):\n",
    "    all_currencies = {}\n",
    "\n",
    "    with open('C:/Users/Parth/Desktop/Parth BDAT/1004- Data Programming/Assignments/Datasets/currencies.txt', 'r') as file:\n",
    "        for line in file:\n",
    "            seperate = line.split() # It will split all lines in three categories \n",
    "            countryCode = seperate[0] # currency code EUR\n",
    "            exchange_rate  = seperate[1] # amount 1.2296544\n",
    "            all_currencies[countryCode] = float(exchange_rate ) # it will store in all_currencies\n",
    "\n",
    "    if currency in all_currencies:\n",
    "        conversion = amount * all_currencies[currency] #1000 * 1.229\n",
    "        print(conversion)\n",
    "    else:\n",
    "        print('Currency not found')\n",
    "#Call the function\n",
    "curconv('EUR', 100)\n",
    "curconv('JPY', 100)"
   ]
  },
  {
   "cell_type": "markdown",
   "id": "2763b95d",
   "metadata": {},
   "source": [
    "# Question 9\n",
    "Each of the following will cause an exception (an error). Identify what type of exception\n",
    "each will cause.\n",
    "\n"
   ]
  },
  {
   "cell_type": "markdown",
   "id": "47ecb6d6",
   "metadata": {},
   "source": [
    "### 1) Trying to add incompatible variables, as in  adding 6 + ‘a’\n",
    "#### Ans:TypeError-dding incompatible variables\n",
    "\n",
    "\n",
    "### 2) Referring to the 12th item of a list that has only 10  items\n",
    "#### Ans:IndexError-Index out of range\n",
    "\n",
    "### 3) Using a value that is out ofrange for a function’s  input, such as calling math.sqrt(-1.0)\n",
    "#### Ans:ValueError-math domain error\n",
    "\n",
    "### 5) Using an undeclared variable, such as print(x) when x has not been defined\n",
    "#### Ans:NameError- name 'undeclared' is not defined\n",
    "\n",
    "### 6) Trying to open a file that does not exist, such as  mistyping the file name or looking in the wrong directory\n",
    "#### Ans:FileNotFoundError-No such file or directory: 'unknown.txt'"
   ]
  },
  {
   "cell_type": "markdown",
   "id": "7f5f8a27",
   "metadata": {},
   "source": [
    "# Question 10\n",
    "Write a function called frequencies() that takes a string as its only parameter, and\n",
    "returns a list of integers, showing the number of times each character appears in the text. Your\n",
    "function may ignore any characters that are not in letters."
   ]
  },
  {
   "cell_type": "code",
   "execution_count": 9,
   "id": "ad3f8d3b",
   "metadata": {},
   "outputs": [],
   "source": [
    "def frequencies(string):\n",
    "\n",
    "    letters = 'abcdefghijklmnopqrstuvwxyz' ## all alphabates\n",
    "\n",
    "    string = string.lower() \n",
    "\n",
    "    counts = [] # Initialize an empty list\n",
    "    for char in letters:\n",
    "        count = string.count(char)\n",
    "        counts.append(count) ## Append the count \n",
    "\n",
    "    return counts"
   ]
  },
  {
   "cell_type": "code",
   "execution_count": 10,
   "id": "da83e33e",
   "metadata": {},
   "outputs": [
    {
     "data": {
      "text/plain": [
       "[1, 1, 1, 1, 1, 1, 1, 1, 1, 1, 1, 1, 1, 1, 1, 1, 1, 1, 1, 1, 1, 1, 1, 1, 1, 1]"
      ]
     },
     "execution_count": 10,
     "metadata": {},
     "output_type": "execute_result"
    }
   ],
   "source": [
    "frequencies('abcdefghijklmnopqrstuvwxyz') ## listed all the alphabates "
   ]
  },
  {
   "cell_type": "code",
   "execution_count": 11,
   "id": "ef463120",
   "metadata": {},
   "outputs": [
    {
     "data": {
      "text/plain": [
       "[1, 1, 1, 3, 5, 1, 1, 2, 1, 0, 1, 0, 1, 2, 4, 0, 1, 2, 0, 3, 1, 0, 1, 1, 0, 0]"
      ]
     },
     "execution_count": 11,
     "metadata": {},
     "output_type": "execute_result"
    }
   ],
   "source": [
    "frequencies('The quick red fox got bored and went home.')"
   ]
  },
  {
   "cell_type": "code",
   "execution_count": 12,
   "id": "fbd3c0e0",
   "metadata": {},
   "outputs": [
    {
     "data": {
      "text/plain": [
       "[1, 0, 0, 0, 1, 0, 0, 0, 0, 0, 0, 1, 0, 0, 0, 2, 0, 0, 0, 0, 0, 0, 0, 0, 0, 0]"
      ]
     },
     "execution_count": 12,
     "metadata": {},
     "output_type": "execute_result"
    }
   ],
   "source": [
    "frequencies('apple')"
   ]
  }
 ],
 "metadata": {
  "kernelspec": {
   "display_name": "Python 3 (ipykernel)",
   "language": "python",
   "name": "python3"
  },
  "language_info": {
   "codemirror_mode": {
    "name": "ipython",
    "version": 3
   },
   "file_extension": ".py",
   "mimetype": "text/x-python",
   "name": "python",
   "nbconvert_exporter": "python",
   "pygments_lexer": "ipython3",
   "version": "3.9.13"
  }
 },
 "nbformat": 4,
 "nbformat_minor": 5
}
